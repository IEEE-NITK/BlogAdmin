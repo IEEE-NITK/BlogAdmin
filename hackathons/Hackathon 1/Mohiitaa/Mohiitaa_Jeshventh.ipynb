{
 "cells": [
  {
   "cell_type": "code",
   "execution_count": 89,
   "metadata": {},
   "outputs": [],
   "source": [
    "import csv\n",
    "import os\n",
    "import re"
   ]
  },
  {
   "cell_type": "markdown",
   "metadata": {},
   "source": [
    "### Function to clean data"
   ]
  },
  {
   "cell_type": "code",
   "execution_count": 95,
   "metadata": {},
   "outputs": [],
   "source": [
    "f = open('/home/mohiitaa/Desktop/MLWor/ride-sharing/hackathons/Hackathon 1/dataset/val.txt','r')\n",
    "book = f.read()\n",
    "words = re.split('\\W+',book)\n",
    "d={}\n",
    "for i in words:\n",
    "    if i in d:\n",
    "        d[i] = int(d[i])+1\n",
    "    else:\n",
    "        d[i]=1\n",
    "f.close()"
   ]
  },
  {
   "cell_type": "markdown",
   "metadata": {},
   "source": [
    "### Sort the list by value"
   ]
  },
  {
   "cell_type": "code",
   "execution_count": 91,
   "metadata": {},
   "outputs": [],
   "source": [
    "keys = sorted(d.iterkeys())\n",
    "r=[]\n",
    "for key,value in sorted(d.iteritems(), key=lambda (k,v):(v,k)):\n",
    "    r+=[(value,key)]\n",
    "r = sorted(r,reverse=True)\n",
    "\n",
    "    "
   ]
  },
  {
   "cell_type": "markdown",
   "metadata": {},
   "source": [
    "### Find the number of words"
   ]
  },
  {
   "cell_type": "code",
   "execution_count": 93,
   "metadata": {},
   "outputs": [],
   "source": [
    "sum = 0\n",
    "for i in range(len(d)):\n",
    "    sum+=r[i][0]"
   ]
  },
  {
   "cell_type": "markdown",
   "metadata": {},
   "source": [
    "### Write statistics into csv file"
   ]
  },
  {
   "cell_type": "code",
   "execution_count": 94,
   "metadata": {},
   "outputs": [],
   "source": [
    "k = (\"Rank\",\"Word\",\"Times occured\",\"Frequency(%)\")\n",
    "with open('statisticsFile.csv','wb') as f:\n",
    "    w = csv.DictWriter(f,k)\n",
    "    w.writeheader()\n",
    "    for i in range(10):\n",
    "        w.writerow({\"Rank\":i+1,\"Word\":r[i][1],\"Times occured\":r[i][0],\"Frequency(%)\":(float(r[i][0])/float(sum))*100})\n"
   ]
  }
 ],
 "metadata": {
  "kernelspec": {
   "display_name": "Python 2",
   "language": "python",
   "name": "python2"
  },
  "language_info": {
   "codemirror_mode": {
    "name": "ipython",
    "version": 2
   },
   "file_extension": ".py",
   "mimetype": "text/x-python",
   "name": "python",
   "nbconvert_exporter": "python",
   "pygments_lexer": "ipython2",
   "version": "2.7.12"
  }
 },
 "nbformat": 4,
 "nbformat_minor": 2
}
